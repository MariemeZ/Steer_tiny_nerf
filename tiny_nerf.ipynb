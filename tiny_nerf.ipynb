{
  "cells": [
    {
      "cell_type": "markdown",
      "metadata": {
        "id": "lLDTVWKq7-ei"
      },
      "source": [
        "##Tiny NeRF\n",
        "This is a simplied version of the method presented in *NeRF: Representing Scenes as Neural Radiance Fields for View Synthesis*\n",
        "\n",
        "[Project Website](http://www.matthewtancik.com/nerf)\n",
        "\n",
        "[arXiv Paper](https://arxiv.org/abs/2003.08934)\n",
        "\n",
        "[Full Code](github.com/bmild/nerf)\n",
        "\n",
        "Components not included in the notebook\n",
        "*   5D input including view directions\n",
        "*   Hierarchical Sampling\n",
        "\n"
      ]
    },
    {
      "cell_type": "code",
      "execution_count": 1,
      "metadata": {
        "id": "bZNXlxmEj0FC"
      },
      "outputs": [],
      "source": [
        "\n",
        "import os, sys\n",
        "import tensorflow as tf\n",
        "\n",
        "from tqdm import tqdm_notebook as tqdm\n",
        "import numpy as np\n",
        "import matplotlib.pyplot as plt\n"
      ]
    },
    {
      "cell_type": "code",
      "execution_count": 2,
      "metadata": {
        "id": "5mTxAwgrj4yn"
      },
      "outputs": [],
      "source": [
        "if not os.path.exists('tiny_nerf_data.npz'):\n",
        "    !wget http://cseweb.ucsd.edu/~viscomp/projects/LF/papers/ECCV20/nerf/tiny_nerf_data.npz"
      ]
    },
    {
      "cell_type": "code",
      "source": [],
      "metadata": {
        "id": "ZRqKJk3JQZT5"
      },
      "execution_count": 2,
      "outputs": []
    },
    {
      "cell_type": "code",
      "source": [
        "import numpy as np\n",
        "import imageio\n",
        "import os\n",
        "\n",
        "def load_images_and_poses(data_dir, focal_length=131.25):\n",
        "    all_images = []\n",
        "    all_poses = []\n",
        "\n",
        "    for folder in os.listdir(data_dir):\n",
        "        folder_path = os.path.join(data_dir, folder)\n",
        "        if os.path.isdir(folder_path):\n",
        "            rgb_path = os.path.join(folder_path, 'rgb')\n",
        "            pose_path = os.path.join(folder_path, 'pose')\n",
        "\n",
        "            # Load RGB images\n",
        "            for img_file in sorted(os.listdir(rgb_path)):\n",
        "                img = imageio.imread(os.path.join(rgb_path, img_file))\n",
        "                all_images.append(img)\n",
        "\n",
        "            # Load pose data\n",
        "            pose_files = sorted(os.listdir(pose_path))\n",
        "            for pose_file in pose_files:\n",
        "                pose = np.loadtxt(os.path.join(pose_path, pose_file))\n",
        "\n",
        "                # Check if the pose is 1D or 2D\n",
        "                if pose.ndim == 1 and pose.size == 16:\n",
        "                    pose = pose.reshape(4, 4)  # Reshape to 4x4 matrix\n",
        "                elif pose.ndim != 2 or pose.shape != (4, 4):\n",
        "                    print(f\"Warning: Pose file {pose_file} does not contain a valid 4x4 matrix.\")\n",
        "                    continue  # Skip invalid pose\n",
        "\n",
        "                # Apply focal length adjustments\n",
        "                pose[0, 0] *= focal_length  # Modify focal length for x scaling\n",
        "                pose[1, 1] *= focal_length  # Modify focal length for y scaling\n",
        "                all_poses.append(pose)\n",
        "\n",
        "    images = np.array(all_images)\n",
        "    poses = np.array(all_poses)\n",
        "\n",
        "    return images, poses"
      ],
      "metadata": {
        "id": "OacZ0h6zQZQd"
      },
      "execution_count": 3,
      "outputs": []
    },
    {
      "cell_type": "code",
      "source": [
        "\n",
        "# Load the dataset\n",
        "train_images, train_poses = load_images_and_poses('/content/drive/MyDrive/input2/cars_train', focal_length=131.25)\n",
        "test_images, test_poses = load_images_and_poses('/content/drive/MyDrive/input2/cars_test', focal_length=131.25)\n",
        "val_images, val_poses = load_images_and_poses('/content/drive/MyDrive/input2/cars_val', focal_length=131.25)\n",
        "\n",
        "# Example: Saving the datasets to NPZ files\n",
        "np.savez('train_dataset.npz', images=train_images, poses=train_poses, focal=131.25)\n",
        "np.savez('test_dataset.npz', images=test_images, poses=test_poses, focal=131.25)\n",
        "np.savez('val_dataset.npz', images=val_images, poses=val_poses, focal=131.25)\n",
        "\n",
        "# Loading and printing the focal lengths from saved NPZ files\n",
        "train_data = np.load('train_dataset.npz')\n",
        "test_data = np.load('test_dataset.npz')\n",
        "val_data = np.load('val_dataset.npz')\n",
        "\n",
        "print(\"Train Focal Length:\", train_data['focal'])\n",
        "print(\"Test Focal Length:\", test_data['focal'])\n",
        "print(\"Validation Focal Length:\", val_data['focal'])"
      ],
      "metadata": {
        "id": "a5SH7Ee7QZOF",
        "outputId": "e36dbfff-5407-48be-f69d-13c6563af4eb",
        "colab": {
          "base_uri": "https://localhost:8080/"
        }
      },
      "execution_count": 4,
      "outputs": [
        {
          "output_type": "stream",
          "name": "stderr",
          "text": [
            "<ipython-input-3-2d5281667f31>:17: DeprecationWarning: Starting with ImageIO v3 the behavior of this function will switch to that of iio.v3.imread. To keep the current behavior (and make this warning disappear) use `import imageio.v2 as imageio` or call `imageio.v2.imread` directly.\n",
            "  img = imageio.imread(os.path.join(rgb_path, img_file))\n"
          ]
        },
        {
          "output_type": "stream",
          "name": "stdout",
          "text": [
            "Train Focal Length: 131.25\n",
            "Test Focal Length: 131.25\n",
            "Validation Focal Length: 131.25\n"
          ]
        }
      ]
    },
    {
      "cell_type": "code",
      "source": [
        "\n",
        "images = test_data['images']\n",
        "poses = test_data['poses']\n",
        "focal = test_data['focal']\n",
        "H, W = images.shape[1:3]\n",
        "print(images.shape, poses.shape, focal)\n",
        "\n",
        "testimg, testpose = images[101], poses[101]\n",
        "images = images[:100,...,:3]\n",
        "poses = poses[:100]\n",
        "\n",
        "plt.imshow(testimg)\n",
        "plt.show()"
      ],
      "metadata": {
        "id": "wYZtDNG-RT90",
        "outputId": "da3eb9ad-d121-4954-ca8b-88eeec0a10ec",
        "colab": {
          "base_uri": "https://localhost:8080/",
          "height": 451
        }
      },
      "execution_count": 5,
      "outputs": [
        {
          "output_type": "stream",
          "name": "stdout",
          "text": [
            "(753, 128, 128, 4) (753, 4, 4) 131.25\n"
          ]
        },
        {
          "output_type": "display_data",
          "data": {
            "text/plain": [
              "<Figure size 640x480 with 1 Axes>"
            ],
            "image/png": "[encoded data removed]"
          },
          "metadata": {}
        }
      ]
    },
    {
      "cell_type": "code",
      "source": [
        "images.shape"
      ],
      "metadata": {
        "id": "syGkUufvccqb",
        "outputId": "1ab6d69e-d845-4c2e-a444-6837a0b888a4",
        "colab": {
          "base_uri": "https://localhost:8080/"
        }
      },
      "execution_count": 6,
      "outputs": [
        {
          "output_type": "execute_result",
          "data": {
            "text/plain": [
              "(100, 128, 128, 3)"
            ]
          },
          "metadata": {},
          "execution_count": 6
        }
      ]
    },
    {
      "cell_type": "code",
      "source": [],
      "metadata": {
        "id": "50VdLhGfcXzk"
      },
      "execution_count": 6,
      "outputs": []
    },
    {
      "cell_type": "code",
      "source": [
        "# Get the height and width of the images\n",
        "H, W = train_images.shape[1:3]\n",
        "print(f\"Image Height: {H}, Image Width: {W}\")"
      ],
      "metadata": {
        "id": "SAjjMu4OQZLs",
        "outputId": "31c711ca-9874-4a1a-a70b-922d92c9fb3b",
        "colab": {
          "base_uri": "https://localhost:8080/"
        }
      },
      "execution_count": 7,
      "outputs": [
        {
          "output_type": "stream",
          "name": "stdout",
          "text": [
            "Image Height: 128, Image Width: 128\n"
          ]
        }
      ]
    },
    {
      "cell_type": "code",
      "source": [
        "\n",
        "\n",
        "def posenc(x):\n",
        "  rets = [x]\n",
        "  for i in range(L_embed):\n",
        "    for fn in [tf.sin, tf.cos]:\n",
        "      rets.append(fn(2.**i * x))\n",
        "  return tf.concat(rets, -1)\n",
        "\n",
        "L_embed = 6\n",
        "embed_fn = posenc\n",
        "# L_embed = 0\n",
        "# embed_fn = tf.identity\n",
        "\n",
        "def init_model(D=8, W=256):\n",
        "    relu = tf.keras.layers.ReLU()\n",
        "    dense = lambda W=W, act=relu : tf.keras.layers.Dense(W, activation=act)\n",
        "\n",
        "    inputs = tf.keras.Input(shape=(3 + 3*2*L_embed,))\n",
        "    outputs = inputs\n",
        "    for i in range(D):\n",
        "        outputs = dense()(outputs)\n",
        "        if i%4==0 and i>0:\n",
        "            outputs = tf.keras.layers.Concatenate()([outputs, inputs])\n",
        "    outputs = dense(4, act=None)(outputs)\n",
        "\n",
        "    model = tf.keras.Model(inputs=inputs, outputs=outputs)\n",
        "    return model\n",
        "\n",
        "def get_rays(H, W, focal, c2w):\n",
        "    # Créer une grille d'indices pour chaque pixel\n",
        "    i, j = tf.meshgrid(tf.range(W, dtype=tf.float32), tf.range(H, dtype=tf.float32), indexing='xy')\n",
        "\n",
        "    # Calculer la direction des rayons\n",
        "    dirs = tf.stack([(i - W * 0.5) / focal, -(j - H * 0.5) / focal, -tf.ones_like(i)], axis=-1)\n",
        "\n",
        "    # Appliquer la transformation de la caméra aux directions\n",
        "    # Cast c2w[:3, :3] to float32 to match the expected type\n",
        "    rays_d = tf.tensordot(dirs, tf.cast(c2w[:3, :3], tf.float32), axes=1)\n",
        "    rays_o = tf.broadcast_to(c2w[:3, -1], tf.shape(rays_d))  # Origine des rayons (position de la caméra)\n",
        "\n",
        "    # Cast rays_o and rays_d to float32\n",
        "    rays_o = tf.cast(rays_o, tf.float32)\n",
        "    rays_d = tf.cast(rays_d, tf.float32)\n",
        "\n",
        "    return rays_o, rays_d\n",
        "\n",
        "def render_rays(network_fn, rays_o, rays_d, near, far, N_samples, rand=False):\n",
        "\n",
        "    def batchify(fn, chunk=1024*32):\n",
        "        return lambda inputs : tf.concat([fn(inputs[i:i+chunk]) for i in range(0, inputs.shape[0], chunk)], 0)\n",
        "\n",
        "    # Compute 3D query points\n",
        "    z_vals = tf.linspace(near, far, N_samples)\n",
        "    if rand:\n",
        "      z_vals += tf.random.uniform(list(rays_o.shape[:-1]) + [N_samples]) * (far-near)/N_samples\n",
        "    pts = rays_o[...,None,:] + rays_d[...,None,:] * z_vals[...,:,None]\n",
        "\n",
        "    # Run network\n",
        "    pts_flat = tf.reshape(pts, [-1,3])\n",
        "    pts_flat = embed_fn(pts_flat)\n",
        "    raw = batchify(network_fn)(pts_flat)\n",
        "    raw = tf.reshape(raw, list(pts.shape[:-1]) + [4])\n",
        "\n",
        "    # Compute opacities and colors\n",
        "    sigma_a = tf.nn.relu(raw[...,3])\n",
        "    rgb = tf.math.sigmoid(raw[...,:3])\n",
        "\n",
        "    # Do volume rendering\n",
        "    dists = tf.concat([z_vals[..., 1:] - z_vals[..., :-1], tf.broadcast_to([1e10], z_vals[...,:1].shape)], -1)\n",
        "    alpha = 1.-tf.exp(-sigma_a * dists)\n",
        "    weights = alpha * tf.math.cumprod(1.-alpha + 1e-10, -1, exclusive=True)\n",
        "\n",
        "    rgb_map = tf.reduce_sum(weights[...,None] * rgb, -2)\n",
        "    depth_map = tf.reduce_sum(weights * z_vals, -1)\n",
        "    acc_map = tf.reduce_sum(weights, -1)\n",
        "\n",
        "    return rgb_map, depth_map, acc_map"
      ],
      "metadata": {
        "id": "Lyxbna_4Ytsy"
      },
      "execution_count": 8,
      "outputs": []
    },
    {
      "cell_type": "code",
      "source": [
        "!pip install lpips"
      ],
      "metadata": {
        "id": "yEUkAmlQZdxA",
        "outputId": "87d96d0c-7e9f-4a2b-9f34-341f76c6789a",
        "colab": {
          "base_uri": "https://localhost:8080/"
        }
      },
      "execution_count": 9,
      "outputs": [
        {
          "output_type": "stream",
          "name": "stdout",
          "text": [
            "Requirement already satisfied: lpips in /usr/local/lib/python3.10/dist-packages (0.1.4)\n",
            "Requirement already satisfied: torch>=0.4.0 in /usr/local/lib/python3.10/dist-packages (from lpips) (2.5.0+cu121)\n",
            "Requirement already satisfied: torchvision>=0.2.1 in /usr/local/lib/python3.10/dist-packages (from lpips) (0.20.0+cu121)\n",
            "Requirement already satisfied: numpy>=1.14.3 in /usr/local/lib/python3.10/dist-packages (from lpips) (1.26.4)\n",
            "Requirement already satisfied: scipy>=1.0.1 in /usr/local/lib/python3.10/dist-packages (from lpips) (1.13.1)\n",
            "Requirement already satisfied: tqdm>=4.28.1 in /usr/local/lib/python3.10/dist-packages (from lpips) (4.66.5)\n",
            "Requirement already satisfied: filelock in /usr/local/lib/python3.10/dist-packages (from torch>=0.4.0->lpips) (3.16.1)\n",
            "Requirement already satisfied: typing-extensions>=4.8.0 in /usr/local/lib/python3.10/dist-packages (from torch>=0.4.0->lpips) (4.12.2)\n",
            "Requirement already satisfied: networkx in /usr/local/lib/python3.10/dist-packages (from torch>=0.4.0->lpips) (3.4.2)\n",
            "Requirement already satisfied: jinja2 in /usr/local/lib/python3.10/dist-packages (from torch>=0.4.0->lpips) (3.1.4)\n",
            "Requirement already satisfied: fsspec in /usr/local/lib/python3.10/dist-packages (from torch>=0.4.0->lpips) (2024.6.1)\n",
            "Requirement already satisfied: sympy==1.13.1 in /usr/local/lib/python3.10/dist-packages (from torch>=0.4.0->lpips) (1.13.1)\n",
            "Requirement already satisfied: mpmath<1.4,>=1.1.0 in /usr/local/lib/python3.10/dist-packages (from sympy==1.13.1->torch>=0.4.0->lpips) (1.3.0)\n",
            "Requirement already satisfied: pillow!=8.3.*,>=5.3.0 in /usr/local/lib/python3.10/dist-packages (from torchvision>=0.2.1->lpips) (10.4.0)\n",
            "Requirement already satisfied: MarkupSafe>=2.0 in /usr/local/lib/python3.10/dist-packages (from jinja2->torch>=0.4.0->lpips) (3.0.2)\n"
          ]
        }
      ]
    },
    {
      "cell_type": "code",
      "source": [
        "from skimage.metrics import structural_similarity as ssim\n",
        "import lpips\n",
        "# Function to compute metrics\n",
        "# Initialiser le modèle LPIPS\n",
        "lpips_model = lpips.LPIPS(net='vgg')  # Utiliser le modèle 'vgg' ou un autre si nécessaire\n",
        "\n",
        "def compute_metrics(target, output):\n",
        "    target = tf.convert_to_tensor(target)\n",
        "    output = tf.convert_to_tensor(output)\n",
        "\n",
        "    # Calculate PSNR\n",
        "    loss = tf.reduce_mean(tf.square(output - target))\n",
        "    psnr = -10. * tf.math.log(loss) / tf.math.log(10.)\n",
        "\n",
        "    # Calculate SSIM\n",
        "    target_np = target.numpy()\n",
        "    output_np = output.numpy()\n",
        "    ssim_value = ssim(target_np, output_np, multichannel=True)\n",
        "\n",
        "    # Calculate LPIPS\n",
        "    lpips_value = lpips_model(output_np, target_np)\n",
        "\n",
        "    return psnr.numpy(), ssim_value, lpips_value.item()\n"
      ],
      "metadata": {
        "id": "SqdvKhfaZZdz",
        "outputId": "de46121c-e7ae-468e-e973-f22f7a24ae21",
        "colab": {
          "base_uri": "https://localhost:8080/"
        }
      },
      "execution_count": 10,
      "outputs": [
        {
          "output_type": "stream",
          "name": "stdout",
          "text": [
            "Setting up [LPIPS] perceptual loss: trunk [vgg], v[0.1], spatial [off]\n"
          ]
        },
        {
          "output_type": "stream",
          "name": "stderr",
          "text": [
            "/usr/local/lib/python3.10/dist-packages/torchvision/models/_utils.py:208: UserWarning: The parameter 'pretrained' is deprecated since 0.13 and may be removed in the future, please use 'weights' instead.\n",
            "  warnings.warn(\n",
            "/usr/local/lib/python3.10/dist-packages/torchvision/models/_utils.py:223: UserWarning: Arguments other than a weight enum or `None` for 'weights' are deprecated since 0.13 and may be removed in the future. The current behavior is equivalent to passing `weights=VGG16_Weights.IMAGENET1K_V1`. You can also use `weights=VGG16_Weights.DEFAULT` to get the most up-to-date weights.\n",
            "  warnings.warn(msg)\n"
          ]
        },
        {
          "output_type": "stream",
          "name": "stdout",
          "text": [
            "Loading model from: /usr/local/lib/python3.10/dist-packages/lpips/weights/v0.1/vgg.pth\n"
          ]
        },
        {
          "output_type": "stream",
          "name": "stderr",
          "text": [
            "/usr/local/lib/python3.10/dist-packages/lpips/lpips.py:107: FutureWarning: You are using `torch.load` with `weights_only=False` (the current default value), which uses the default pickle module implicitly. It is possible to construct malicious pickle data which will execute arbitrary code during unpickling (See https://github.com/pytorch/pytorch/blob/main/SECURITY.md#untrusted-models for more details). In a future release, the default value for `weights_only` will be flipped to `True`. This limits the functions that could be executed during unpickling. Arbitrary objects will no longer be allowed to be loaded via this mode unless they are explicitly allowlisted by the user via `torch.serialization.add_safe_globals`. We recommend you start setting `weights_only=True` for any use case where you don't have full control of the loaded file. Please open an issue on GitHub for any issues related to this experimental feature.\n",
            "  self.load_state_dict(torch.load(model_path, map_location='cpu'), strict=False)\n"
          ]
        }
      ]
    },
    {
      "cell_type": "code",
      "source": [
        "import numpy as np\n",
        "import tensorflow as tf\n",
        "import matplotlib.pyplot as plt\n",
        "import time\n",
        "import gc\n",
        "\n",
        "# Initialisation du modèle et de l'optimiseur\n",
        "model = init_model()\n",
        "optimizer = tf.keras.optimizers.Adam(5e-4)\n",
        "\n",
        "N_samples = 64\n",
        "N_iters = 1000\n",
        "psnrs = []\n",
        "iternums = []\n",
        "i_plot = 25\n",
        "\n",
        "# Activer la croissance de la mémoire GPU si nécessaire\n",
        "gpus = tf.config.experimental.list_physical_devices('GPU')\n",
        "if gpus:\n",
        "    try:\n",
        "        for gpu in gpus:\n",
        "            tf.config.experimental.set_memory_growth(gpu, True)\n",
        "    except RuntimeError as e:\n",
        "        print(e)\n",
        "\n",
        "t = time.time()\n",
        "for i in range(N_iters + 1):\n",
        "    img_i = np.random.randint(images.shape[0])\n",
        "    target = images[img_i]\n",
        "    pose = poses[img_i]\n",
        "    rays_o, rays_d = get_rays(H, W, focal, pose)\n",
        "\n",
        "    with tf.GradientTape() as tape:\n",
        "        rgb, depth, acc = render_rays(model, rays_o, rays_d, near=2., far=6., N_samples=N_samples, rand=True)\n",
        "        loss = tf.reduce_mean(tf.square(rgb - target))\n",
        "\n",
        "    gradients = tape.gradient(loss, model.trainable_variables)\n",
        "    optimizer.apply_gradients(zip(gradients, model.trainable_variables))\n",
        "\n",
        "    if i % i_plot == 0:\n",
        "        print(i, (time.time() - t) / i_plot, 'secs per iter')\n",
        "        t = time.time()\n",
        "\n",
        "        # Render the holdout view for logging\n",
        "        rays_o, rays_d = get_rays(H, W, focal, testpose)\n",
        "        rgb, depth, acc = render_rays(model, rays_o, rays_d, near=2., far=6., N_samples=N_samples)\n",
        "        loss = tf.reduce_mean(tf.square(rgb - testimg))\n",
        "        psnr = -10. * tf.math.log(loss) / tf.math.log(10.)\n",
        "\n",
        "        psnrs.append(psnr.numpy())\n",
        "        iternums.append(i)\n",
        "\n",
        "        plt.figure(figsize=(10, 4))\n",
        "        plt.subplot(121)\n",
        "        plt.imshow(rgb)\n",
        "        plt.title(f'Iteration: {i}')\n",
        "        plt.axis('off')  # Optionnel : masquer les axes pour une meilleure visualisation\n",
        "        plt.subplot(122)\n",
        "        plt.plot(iternums, psnrs)\n",
        "        plt.title('PSNR')\n",
        "        plt.xlabel('Iterations')\n",
        "        plt.ylabel('PSNR (dB)')\n",
        "        plt.show()\n",
        "\n",
        "    # Libérer la mémoire\n",
        "    gc.collect()\n",
        "\n",
        "print('Done')\n"
      ],
      "metadata": {
        "id": "omovEe-IYtpV"
      },
      "execution_count": null,
      "outputs": []
    },
    {
      "cell_type": "code",
      "source": [],
      "metadata": {
        "id": "ghC2jiIoYtm9"
      },
      "execution_count": null,
      "outputs": []
    },
    {
      "cell_type": "code",
      "source": [],
      "metadata": {
        "id": "iPY3Js2-Ytkb"
      },
      "execution_count": null,
      "outputs": []
    },
    {
      "cell_type": "code",
      "source": [],
      "metadata": {
        "id": "PmslQaitYtiE"
      },
      "execution_count": null,
      "outputs": []
    },
    {
      "cell_type": "code",
      "source": [],
      "metadata": {
        "id": "oASNtcoDYtfz"
      },
      "execution_count": null,
      "outputs": []
    },
    {
      "cell_type": "code",
      "source": [],
      "metadata": {
        "id": "OG2iWKdbYtde"
      },
      "execution_count": null,
      "outputs": []
    },
    {
      "cell_type": "code",
      "source": [],
      "metadata": {
        "id": "mh8Ewb8YYtbG"
      },
      "execution_count": null,
      "outputs": []
    },
    {
      "cell_type": "code",
      "source": [],
      "metadata": {
        "id": "dbjjE4ZnYtZV"
      },
      "execution_count": null,
      "outputs": []
    },
    {
      "cell_type": "markdown",
      "metadata": {
        "id": "t2dgdCDi-m3T"
      },
      "source": [
        "# Load Input Images and Poses"
      ]
    },
    {
      "cell_type": "code",
      "execution_count": null,
      "metadata": {
        "colab": {
          "base_uri": "https://localhost:8080/",
          "height": 285
        },
        "id": "jj1lof2ej0FI",
        "outputId": "6eef311a-11bd-495f-97e8-6b23029b3936"
      },
      "outputs": [
        {
          "name": "stdout",
          "output_type": "stream",
          "text": [
            "(106, 100, 100, 3) (106, 4, 4) 138.88887889922103\n"
          ]
        },
        {
          "data": {
            "image/png": "[encoded data removed]",
            "text/plain": [
              "<Figure size 432x288 with 1 Axes>"
            ]
          },
          "metadata": {
            "tags": []
          },
          "output_type": "display_data"
        }
      ],
      "source": [
        "data = np.load('tiny_nerf_data.npz')\n",
        "images = data['images']\n",
        "poses = data['poses']\n",
        "focal = data['focal']\n",
        "H, W = images.shape[1:3]\n",
        "print(images.shape, poses.shape, focal)\n",
        "\n",
        "testimg, testpose = images[101], poses[101]\n",
        "images = images[:100,...,:3]\n",
        "poses = poses[:100]\n",
        "\n",
        "plt.imshow(testimg)\n",
        "plt.show()"
      ]
    },
    {
      "cell_type": "markdown",
      "metadata": {
        "id": "jxDt192E-v6i"
      },
      "source": [
        "# Optimize NeRF"
      ]
    },
    {
      "cell_type": "code",
      "execution_count": null,
      "metadata": {
        "id": "R1avtwVoAQTu"
      },
      "outputs": [],
      "source": [
        "\n",
        "\n",
        "def posenc(x):\n",
        "  rets = [x]\n",
        "  for i in range(L_embed):\n",
        "    for fn in [tf.sin, tf.cos]:\n",
        "      rets.append(fn(2.**i * x))\n",
        "  return tf.concat(rets, -1)\n",
        "\n",
        "L_embed = 6\n",
        "embed_fn = posenc\n",
        "# L_embed = 0\n",
        "# embed_fn = tf.identity\n",
        "\n",
        "def init_model(D=8, W=256):\n",
        "    relu = tf.keras.layers.ReLU()\n",
        "    dense = lambda W=W, act=relu : tf.keras.layers.Dense(W, activation=act)\n",
        "\n",
        "    inputs = tf.keras.Input(shape=(3 + 3*2*L_embed))\n",
        "    outputs = inputs\n",
        "    for i in range(D):\n",
        "        outputs = dense()(outputs)\n",
        "        if i%4==0 and i>0:\n",
        "            outputs = tf.concat([outputs, inputs], -1)\n",
        "    outputs = dense(4, act=None)(outputs)\n",
        "\n",
        "    model = tf.keras.Model(inputs=inputs, outputs=outputs)\n",
        "    return model\n",
        "\n",
        "\n",
        "def get_rays(H, W, focal, c2w):\n",
        "    i, j = tf.meshgrid(tf.range(W, dtype=tf.float32), tf.range(H, dtype=tf.float32), indexing='xy')\n",
        "    dirs = tf.stack([(i-W*.5)/focal, -(j-H*.5)/focal, -tf.ones_like(i)], -1)\n",
        "    rays_d = tf.reduce_sum(dirs[..., np.newaxis, :] * c2w[:3,:3], -1)\n",
        "    rays_o = tf.broadcast_to(c2w[:3,-1], tf.shape(rays_d))\n",
        "    return rays_o, rays_d\n",
        "\n",
        "\n",
        "\n",
        "def render_rays(network_fn, rays_o, rays_d, near, far, N_samples, rand=False):\n",
        "\n",
        "    def batchify(fn, chunk=1024*32):\n",
        "        return lambda inputs : tf.concat([fn(inputs[i:i+chunk]) for i in range(0, inputs.shape[0], chunk)], 0)\n",
        "\n",
        "    # Compute 3D query points\n",
        "    z_vals = tf.linspace(near, far, N_samples)\n",
        "    if rand:\n",
        "      z_vals += tf.random.uniform(list(rays_o.shape[:-1]) + [N_samples]) * (far-near)/N_samples\n",
        "    pts = rays_o[...,None,:] + rays_d[...,None,:] * z_vals[...,:,None]\n",
        "\n",
        "    # Run network\n",
        "    pts_flat = tf.reshape(pts, [-1,3])\n",
        "    pts_flat = embed_fn(pts_flat)\n",
        "    raw = batchify(network_fn)(pts_flat)\n",
        "    raw = tf.reshape(raw, list(pts.shape[:-1]) + [4])\n",
        "\n",
        "    # Compute opacities and colors\n",
        "    sigma_a = tf.nn.relu(raw[...,3])\n",
        "    rgb = tf.math.sigmoid(raw[...,:3])\n",
        "\n",
        "    # Do volume rendering\n",
        "    dists = tf.concat([z_vals[..., 1:] - z_vals[..., :-1], tf.broadcast_to([1e10], z_vals[...,:1].shape)], -1)\n",
        "    alpha = 1.-tf.exp(-sigma_a * dists)\n",
        "    weights = alpha * tf.math.cumprod(1.-alpha + 1e-10, -1, exclusive=True)\n",
        "\n",
        "    rgb_map = tf.reduce_sum(weights[...,None] * rgb, -2)\n",
        "    depth_map = tf.reduce_sum(weights * z_vals, -1)\n",
        "    acc_map = tf.reduce_sum(weights, -1)\n",
        "\n",
        "    return rgb_map, depth_map, acc_map"
      ]
    },
    {
      "cell_type": "markdown",
      "metadata": {
        "id": "3TSAyVcKAiyI"
      },
      "source": [
        "Here we optimize the model. We plot a rendered holdout view and its PSNR every 50 iterations."
      ]
    },
    {
      "cell_type": "code",
      "execution_count": 1,
      "metadata": {
        "colab": {
          "base_uri": "https://localhost:8080/",
          "height": 211
        },
        "id": "6XurcHoCj0FQ",
        "outputId": "c2410ec0-f544-49e3-9f9f-317fbfcfe7cf"
      },
      "outputs": [
        {
          "output_type": "error",
          "ename": "NameError",
          "evalue": "name 'init_model' is not defined",
          "traceback": [
            "\u001b[0;31m---------------------------------------------------------------------------\u001b[0m",
            "\u001b[0;31mNameError\u001b[0m                                 Traceback (most recent call last)",
            "\u001b[0;32m<ipython-input-1-c5d5b8525189>\u001b[0m in \u001b[0;36m<cell line: 8>\u001b[0;34m()\u001b[0m\n\u001b[1;32m      6\u001b[0m \u001b[0;34m\u001b[0m\u001b[0m\n\u001b[1;32m      7\u001b[0m \u001b[0;31m# Initialisation du modèle et de l'optimiseur\u001b[0m\u001b[0;34m\u001b[0m\u001b[0;34m\u001b[0m\u001b[0m\n\u001b[0;32m----> 8\u001b[0;31m \u001b[0mmodel\u001b[0m \u001b[0;34m=\u001b[0m \u001b[0minit_model\u001b[0m\u001b[0;34m(\u001b[0m\u001b[0;34m)\u001b[0m\u001b[0;34m\u001b[0m\u001b[0;34m\u001b[0m\u001b[0m\n\u001b[0m\u001b[1;32m      9\u001b[0m \u001b[0moptimizer\u001b[0m \u001b[0;34m=\u001b[0m \u001b[0mtf\u001b[0m\u001b[0;34m.\u001b[0m\u001b[0mkeras\u001b[0m\u001b[0;34m.\u001b[0m\u001b[0moptimizers\u001b[0m\u001b[0;34m.\u001b[0m\u001b[0mAdam\u001b[0m\u001b[0;34m(\u001b[0m\u001b[0;36m5e-4\u001b[0m\u001b[0;34m)\u001b[0m\u001b[0;34m\u001b[0m\u001b[0;34m\u001b[0m\u001b[0m\n\u001b[1;32m     10\u001b[0m \u001b[0;34m\u001b[0m\u001b[0m\n",
            "\u001b[0;31mNameError\u001b[0m: name 'init_model' is not defined"
          ]
        }
      ],
      "source": [
        "import numpy as np\n",
        "import tensorflow as tf\n",
        "import matplotlib.pyplot as plt\n",
        "import time\n",
        "import gc\n",
        "\n",
        "# Initialisation du modèle et de l'optimiseur\n",
        "model = init_model()\n",
        "optimizer = tf.keras.optimizers.Adam(5e-4)\n",
        "\n",
        "N_samples = 64\n",
        "N_iters = 1000\n",
        "psnrs = []\n",
        "iternums = []\n",
        "i_plot = 25\n",
        "\n",
        "# Activer la croissance de la mémoire GPU si nécessaire\n",
        "gpus = tf.config.experimental.list_physical_devices('GPU')\n",
        "if gpus:\n",
        "    try:\n",
        "        for gpu in gpus:\n",
        "            tf.config.experimental.set_memory_growth(gpu, True)\n",
        "    except RuntimeError as e:\n",
        "        print(e)\n",
        "\n",
        "t = time.time()\n",
        "for i in range(N_iters + 1):\n",
        "    img_i = np.random.randint(images.shape[0])\n",
        "    target = images[img_i]\n",
        "    pose = poses[img_i]\n",
        "    rays_o, rays_d = get_rays(H, W, focal, pose)\n",
        "\n",
        "    with tf.GradientTape() as tape:\n",
        "        rgb, depth, acc = render_rays(model, rays_o, rays_d, near=2., far=6., N_samples=N_samples, rand=True)\n",
        "        loss = tf.reduce_mean(tf.square(rgb - target))\n",
        "\n",
        "    gradients = tape.gradient(loss, model.trainable_variables)\n",
        "    optimizer.apply_gradients(zip(gradients, model.trainable_variables))\n",
        "\n",
        "    if i % i_plot == 0:\n",
        "        print(i, (time.time() - t) / i_plot, 'secs per iter')\n",
        "        t = time.time()\n",
        "\n",
        "        # Render the holdout view for logging\n",
        "        rays_o, rays_d = get_rays(H, W, focal, testpose)\n",
        "        rgb, depth, acc = render_rays(model, rays_o, rays_d, near=2., far=6., N_samples=N_samples)\n",
        "        loss = tf.reduce_mean(tf.square(rgb - testimg))\n",
        "        psnr = -10. * tf.math.log(loss) / tf.math.log(10.)\n",
        "\n",
        "        psnrs.append(psnr.numpy())\n",
        "        iternums.append(i)\n",
        "\n",
        "        plt.figure(figsize=(10, 4))\n",
        "        plt.subplot(121)\n",
        "        plt.imshow(rgb)\n",
        "        plt.title(f'Iteration: {i}')\n",
        "        plt.axis('off')  # Optionnel : masquer les axes pour une meilleure visualisation\n",
        "        plt.subplot(122)\n",
        "        plt.plot(iternums, psnrs)\n",
        "        plt.title('PSNR')\n",
        "        plt.xlabel('Iterations')\n",
        "        plt.ylabel('PSNR (dB)')\n",
        "        plt.show()\n",
        "\n",
        "    # Libérer la mémoire\n",
        "    gc.collect()\n",
        "\n",
        "print('Done')\n"
      ]
    },
    {
      "cell_type": "markdown",
      "metadata": {
        "id": "bZLEFNox_UVK"
      },
      "source": [
        "# Interactive Visualization"
      ]
    },
    {
      "cell_type": "code",
      "execution_count": null,
      "metadata": {
        "colab": {
          "base_uri": "https://localhost:8080/",
          "height": 472,
          "referenced_widgets": [
            "541f62441bf7410eb60fa1dc0ac6806e",
            "0b499c0b045f47739b9f02e3044ab202",
            "c9945007a138443d9fbb8bb31af74cc3",
            "76b0b54cd6e7403aa097e3ac523698f2",
            "2d10a9d7f90d46068657a276708e2830",
            "c6097730a1244ceeba6cc840ae3f3a12",
            "ca487a41d9894ba8a5e28a05fd7ed43e",
            "babb6b978ae649a88eaea62c2c295b2f",
            "3e97596c7ad7412d944dee129187bf78",
            "a45b06e19d5d4098b8d162d0d9e73d66",
            "d6695da9ffa041a1b5bd42d829b06f20",
            "88f12e14df244cbd9eb1411f2eebcba6",
            "1b002a5c05f248e781ee20127dbb43d7"
          ]
        },
        "id": "L92jHDI7j0FT",
        "outputId": "758e5559-8b25-47ff-bfb6-4a6c088e01af"
      },
      "outputs": [
        {
          "data": {
            "application/vnd.jupyter.widget-view+json": {
              "model_id": "541f62441bf7410eb60fa1dc0ac6806e",
              "version_major": 2,
              "version_minor": 0
            },
            "text/plain": [
              "interactive(children=(FloatSlider(value=100.0, description='theta', max=360.0, step=0.01), FloatSlider(value=-…"
            ]
          },
          "metadata": {
            "tags": []
          },
          "output_type": "display_data"
        }
      ],
      "source": [
        "%matplotlib inline\n",
        "from ipywidgets import interactive, widgets\n",
        "\n",
        "\n",
        "trans_t = lambda t : tf.convert_to_tensor([\n",
        "    [1,0,0,0],\n",
        "    [0,1,0,0],\n",
        "    [0,0,1,t],\n",
        "    [0,0,0,1],\n",
        "], dtype=tf.float32)\n",
        "\n",
        "rot_phi = lambda phi : tf.convert_to_tensor([\n",
        "    [1,0,0,0],\n",
        "    [0,tf.cos(phi),-tf.sin(phi),0],\n",
        "    [0,tf.sin(phi), tf.cos(phi),0],\n",
        "    [0,0,0,1],\n",
        "], dtype=tf.float32)\n",
        "\n",
        "rot_theta = lambda th : tf.convert_to_tensor([\n",
        "    [tf.cos(th),0,-tf.sin(th),0],\n",
        "    [0,1,0,0],\n",
        "    [tf.sin(th),0, tf.cos(th),0],\n",
        "    [0,0,0,1],\n",
        "], dtype=tf.float32)\n",
        "\n",
        "\n",
        "def pose_spherical(theta, phi, radius):\n",
        "    c2w = trans_t(radius)\n",
        "    c2w = rot_phi(phi/180.*np.pi) @ c2w\n",
        "    c2w = rot_theta(theta/180.*np.pi) @ c2w\n",
        "    c2w = np.array([[-1,0,0,0],[0,0,1,0],[0,1,0,0],[0,0,0,1]]) @ c2w\n",
        "    return c2w\n",
        "\n",
        "\n",
        "def f(**kwargs):\n",
        "    c2w = pose_spherical(**kwargs)\n",
        "    rays_o, rays_d = get_rays(H, W, focal, c2w[:3,:4])\n",
        "    rgb, depth, acc = render_rays(model, rays_o, rays_d, near=2., far=6., N_samples=N_samples)\n",
        "    img = np.clip(rgb,0,1)\n",
        "\n",
        "    plt.figure(2, figsize=(20,6))\n",
        "    plt.imshow(img)\n",
        "    plt.show()\n",
        "\n",
        "\n",
        "sldr = lambda v, mi, ma: widgets.FloatSlider(\n",
        "    value=v,\n",
        "    min=mi,\n",
        "    max=ma,\n",
        "    step=.01,\n",
        ")\n",
        "\n",
        "names = [\n",
        "    ['theta', [100., 0., 360]],\n",
        "    ['phi', [-30., -90, 0]],\n",
        "    ['radius', [4., 3., 5.]],\n",
        "]\n",
        "\n",
        "interactive_plot = interactive(f, **{s[0] : sldr(*s[1]) for s in names})\n",
        "output = interactive_plot.children[-1]\n",
        "output.layout.height = '350px'\n",
        "interactive_plot"
      ]
    },
    {
      "cell_type": "markdown",
      "metadata": {
        "id": "PpKhAn2a__Iu"
      },
      "source": [
        "# Render 360 Video"
      ]
    },
    {
      "cell_type": "code",
      "execution_count": null,
      "metadata": {
        "colab": {
          "base_uri": "https://localhost:8080/",
          "height": 154,
          "referenced_widgets": [
            "9031916d729c478a9b3866f4d91d8fe3",
            "f326611178244edc9ab69d8f7f7c79d9",
            "3e1c885192e14e779f404204ea75a2a0",
            "a59798fdf1b841ec8911d74e0df8753d",
            "eb7f40f7889c4912bedf30d4b310e189",
            "4469cf78c9a547cf913738b7460c9655",
            "7d2b3c3af3e045caae9814cb38080e46",
            "7dc4653f29174908bc749765b7865416"
          ]
        },
        "id": "8Sg4aV0cmVPs",
        "outputId": "b88362ee-8e98-4ac1-c704-59dc9df5b283"
      },
      "outputs": [
        {
          "name": "stderr",
          "output_type": "stream",
          "text": [
            "/usr/local/lib/python3.6/dist-packages/ipykernel_launcher.py:2: TqdmDeprecationWarning: This function will be removed in tqdm==5.0.0\n",
            "Please use `tqdm.notebook.tqdm` instead of `tqdm.tqdm_notebook`\n",
            "  \n"
          ]
        },
        {
          "data": {
            "application/vnd.jupyter.widget-view+json": {
              "model_id": "9031916d729c478a9b3866f4d91d8fe3",
              "version_major": 2,
              "version_minor": 0
            },
            "text/plain": [
              "HBox(children=(IntProgress(value=0, max=120), HTML(value='')))"
            ]
          },
          "metadata": {
            "tags": []
          },
          "output_type": "display_data"
        },
        {
          "name": "stderr",
          "output_type": "stream",
          "text": [
            "WARNING:root:IMAGEIO FFMPEG_WRITER WARNING: input image is not divisible by macro_block_size=16, resizing from (100, 100) to (112, 112) to ensure video compatibility with most codecs and players. To prevent resizing, make your input image divisible by the macro_block_size or set the macro_block_size to None (risking incompatibility). You may also see a FFMPEG warning concerning speedloss due to data not being aligned.\n"
          ]
        },
        {
          "name": "stdout",
          "output_type": "stream",
          "text": [
            "\n"
          ]
        }
      ],
      "source": [
        "frames = []\n",
        "for th in tqdm(np.linspace(0., 360., 120, endpoint=False)):\n",
        "    c2w = pose_spherical(th, -30., 4.)\n",
        "    rays_o, rays_d = get_rays(H, W, focal, c2w[:3,:4])\n",
        "    rgb, depth, acc = render_rays(model, rays_o, rays_d, near=2., far=6., N_samples=N_samples)\n",
        "    frames.append((255*np.clip(rgb,0,1)).astype(np.uint8))\n",
        "\n",
        "import imageio\n",
        "f = 'video.mp4'\n",
        "imageio.mimwrite(f, frames, fps=30, quality=7)"
      ]
    },
    {
      "cell_type": "code",
      "execution_count": null,
      "metadata": {
        "colab": {
          "base_uri": "https://localhost:8080/",
          "height": 421
        },
        "id": "OQ_ms-YMyFly",
        "outputId": "5354e038-5cc1-4ac5-88e7-8a34849cc7e4"
      },
      "outputs": [
        {
          "data": {
            "text/html": [
              "\n",
              "<video width=400 controls autoplay loop>\n",
              "      <source src=\"data:video/mp4;base64,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\" type=\"video/mp4\">\n",
              "</video>\n"
            ],
            "text/plain": [
              "<IPython.core.display.HTML object>"
            ]
          },
          "execution_count": 37,
          "metadata": {
            "tags": []
          },
          "output_type": "execute_result"
        }
      ],
      "source": [
        "from IPython.display import HTML\n",
        "from base64 import b64encode\n",
        "mp4 = open('video.mp4','rb').read()\n",
        "data_url = \"data:video/mp4;base64,\" + b64encode(mp4).decode()\n",
        "HTML(\"\"\"\n",
        "<video width=400 controls autoplay loop>\n",
        "      <source src=\"%s\" type=\"video/mp4\">\n",
        "</video>\n",
        "\"\"\" % data_url)"
      ]
    },
    {
      "cell_type": "code",
      "execution_count": null,
      "metadata": {
        "id": "GvR-v3uzCFYQ"
      },
      "outputs": [],
      "source": [
        "\n"
      ]
    },
    {
      "cell_type": "code",
      "execution_count": null,
      "metadata": {
        "id": "CT38DMfyCICr"
      },
      "outputs": [],
      "source": []
    }
  ],
  "metadata": {
    "accelerator": "GPU",
    "colab": {
      "name": "tiny_nerf.ipynb",
      "provenance": [],
      "gpuType": "T4"
    },
    "kernelspec": {
      "display_name": "venv-tf115",
      "language": "python",
      "name": "venv-tf115"
    },
    "language_info": {
      "codemirror_mode": {
        "name": "ipython",
        "version": 3
      },
      "file_extension": ".py",
      "mimetype": "text/x-python",
      "name": "python",
      "nbconvert_exporter": "python",
      "pygments_lexer": "ipython3",
      "version": "3.6.8"
    },
    "widgets": {
      "application/vnd.jupyter.widget-state+json": {
        "0b499c0b045f47739b9f02e3044ab202": {
          "model_module": "@jupyter-widgets/base",
          "model_name": "LayoutModel",
          "state": {
            "_model_module": "@jupyter-widgets/base",
            "_model_module_version": "1.2.0",
            "_model_name": "LayoutModel",
            "_view_count": null,
            "_view_module": "@jupyter-widgets/base",
            "_view_module_version": "1.2.0",
            "_view_name": "LayoutView",
            "align_content": null,
            "align_items": null,
            "align_self": null,
            "border": null,
            "bottom": null,
            "display": null,
            "flex": null,
            "flex_flow": null,
            "grid_area": null,
            "grid_auto_columns": null,
            "grid_auto_flow": null,
            "grid_auto_rows": null,
            "grid_column": null,
            "grid_gap": null,
            "grid_row": null,
            "grid_template_areas": null,
            "grid_template_columns": null,
            "grid_template_rows": null,
            "height": null,
            "justify_content": null,
            "justify_items": null,
            "left": null,
            "margin": null,
            "max_height": null,
            "max_width": null,
            "min_height": null,
            "min_width": null,
            "object_fit": null,
            "object_position": null,
            "order": null,
            "overflow": null,
            "overflow_x": null,
            "overflow_y": null,
            "padding": null,
            "right": null,
            "top": null,
            "visibility": null,
            "width": null
          },
          "model_module_version": "1.2.0"
        },
        "2d10a9d7f90d46068657a276708e2830": {
          "model_module": "@jupyter-widgets/controls",
          "model_name": "FloatSliderModel",
          "state": {
            "_dom_classes": [],
            "_model_module": "@jupyter-widgets/controls",
            "_model_module_version": "1.5.0",
            "_model_name": "FloatSliderModel",
            "_view_count": null,
            "_view_module": "@jupyter-widgets/controls",
            "_view_module_version": "1.5.0",
            "_view_name": "FloatSliderView",
            "continuous_update": true,
            "description": "radius",
            "description_tooltip": null,
            "disabled": false,
            "layout": "IPY_MODEL_88f12e14df244cbd9eb1411f2eebcba6",
            "max": 5,
            "min": 3,
            "orientation": "horizontal",
            "readout": true,
            "readout_format": ".2f",
            "step": 0.01,
            "style": "IPY_MODEL_d6695da9ffa041a1b5bd42d829b06f20",
            "value": 4
          },
          "model_module_version": "1.5.0"
        },
        "3e1c885192e14e779f404204ea75a2a0": {
          "model_module": "@jupyter-widgets/controls",
          "model_name": "IntProgressModel",
          "state": {
            "_dom_classes": [],
            "_model_module": "@jupyter-widgets/controls",
            "_model_module_version": "1.5.0",
            "_model_name": "IntProgressModel",
            "_view_count": null,
            "_view_module": "@jupyter-widgets/controls",
            "_view_module_version": "1.5.0",
            "_view_name": "ProgressView",
            "bar_style": "success",
            "description": "100%",
            "description_tooltip": null,
            "layout": "IPY_MODEL_4469cf78c9a547cf913738b7460c9655",
            "max": 120,
            "min": 0,
            "orientation": "horizontal",
            "style": "IPY_MODEL_eb7f40f7889c4912bedf30d4b310e189",
            "value": 120
          },
          "model_module_version": "1.5.0"
        },
        "3e97596c7ad7412d944dee129187bf78": {
          "model_module": "@jupyter-widgets/controls",
          "model_name": "SliderStyleModel",
          "state": {
            "_model_module": "@jupyter-widgets/controls",
            "_model_module_version": "1.5.0",
            "_model_name": "SliderStyleModel",
            "_view_count": null,
            "_view_module": "@jupyter-widgets/base",
            "_view_module_version": "1.2.0",
            "_view_name": "StyleView",
            "description_width": "",
            "handle_color": null
          },
          "model_module_version": "1.5.0"
        },
        "4469cf78c9a547cf913738b7460c9655": {
          "model_module": "@jupyter-widgets/base",
          "model_name": "LayoutModel",
          "state": {
            "_model_module": "@jupyter-widgets/base",
            "_model_module_version": "1.2.0",
            "_model_name": "LayoutModel",
            "_view_count": null,
            "_view_module": "@jupyter-widgets/base",
            "_view_module_version": "1.2.0",
            "_view_name": "LayoutView",
            "align_content": null,
            "align_items": null,
            "align_self": null,
            "border": null,
            "bottom": null,
            "display": null,
            "flex": null,
            "flex_flow": null,
            "grid_area": null,
            "grid_auto_columns": null,
            "grid_auto_flow": null,
            "grid_auto_rows": null,
            "grid_column": null,
            "grid_gap": null,
            "grid_row": null,
            "grid_template_areas": null,
            "grid_template_columns": null,
            "grid_template_rows": null,
            "height": null,
            "justify_content": null,
            "justify_items": null,
            "left": null,
            "margin": null,
            "max_height": null,
            "max_width": null,
            "min_height": null,
            "min_width": null,
            "object_fit": null,
            "object_position": null,
            "order": null,
            "overflow": null,
            "overflow_x": null,
            "overflow_y": null,
            "padding": null,
            "right": null,
            "top": null,
            "visibility": null,
            "width": null
          },
          "model_module_version": "1.2.0"
        },
        "541f62441bf7410eb60fa1dc0ac6806e": {
          "model_module": "@jupyter-widgets/controls",
          "model_name": "VBoxModel",
          "state": {
            "_dom_classes": [
              "widget-interact"
            ],
            "_model_module": "@jupyter-widgets/controls",
            "_model_module_version": "1.5.0",
            "_model_name": "VBoxModel",
            "_view_count": null,
            "_view_module": "@jupyter-widgets/controls",
            "_view_module_version": "1.5.0",
            "_view_name": "VBoxView",
            "box_style": "",
            "children": [
              "IPY_MODEL_c9945007a138443d9fbb8bb31af74cc3",
              "IPY_MODEL_76b0b54cd6e7403aa097e3ac523698f2",
              "IPY_MODEL_2d10a9d7f90d46068657a276708e2830",
              "IPY_MODEL_c6097730a1244ceeba6cc840ae3f3a12"
            ],
            "layout": "IPY_MODEL_0b499c0b045f47739b9f02e3044ab202"
          },
          "model_module_version": "1.5.0"
        },
        "76b0b54cd6e7403aa097e3ac523698f2": {
          "model_module": "@jupyter-widgets/controls",
          "model_name": "FloatSliderModel",
          "state": {
            "_dom_classes": [],
            "_model_module": "@jupyter-widgets/controls",
            "_model_module_version": "1.5.0",
            "_model_name": "FloatSliderModel",
            "_view_count": null,
            "_view_module": "@jupyter-widgets/controls",
            "_view_module_version": "1.5.0",
            "_view_name": "FloatSliderView",
            "continuous_update": true,
            "description": "phi",
            "description_tooltip": null,
            "disabled": false,
            "layout": "IPY_MODEL_a45b06e19d5d4098b8d162d0d9e73d66",
            "max": 0,
            "min": -90,
            "orientation": "horizontal",
            "readout": true,
            "readout_format": ".2f",
            "step": 0.01,
            "style": "IPY_MODEL_3e97596c7ad7412d944dee129187bf78",
            "value": -30
          },
          "model_module_version": "1.5.0"
        },
        "7d2b3c3af3e045caae9814cb38080e46": {
          "model_module": "@jupyter-widgets/controls",
          "model_name": "DescriptionStyleModel",
          "state": {
            "_model_module": "@jupyter-widgets/controls",
            "_model_module_version": "1.5.0",
            "_model_name": "DescriptionStyleModel",
            "_view_count": null,
            "_view_module": "@jupyter-widgets/base",
            "_view_module_version": "1.2.0",
            "_view_name": "StyleView",
            "description_width": ""
          },
          "model_module_version": "1.5.0"
        },
        "7dc4653f29174908bc749765b7865416": {
          "model_module": "@jupyter-widgets/base",
          "model_name": "LayoutModel",
          "state": {
            "_model_module": "@jupyter-widgets/base",
            "_model_module_version": "1.2.0",
            "_model_name": "LayoutModel",
            "_view_count": null,
            "_view_module": "@jupyter-widgets/base",
            "_view_module_version": "1.2.0",
            "_view_name": "LayoutView",
            "align_content": null,
            "align_items": null,
            "align_self": null,
            "border": null,
            "bottom": null,
            "display": null,
            "flex": null,
            "flex_flow": null,
            "grid_area": null,
            "grid_auto_columns": null,
            "grid_auto_flow": null,
            "grid_auto_rows": null,
            "grid_column": null,
            "grid_gap": null,
            "grid_row": null,
            "grid_template_areas": null,
            "grid_template_columns": null,
            "grid_template_rows": null,
            "height": null,
            "justify_content": null,
            "justify_items": null,
            "left": null,
            "margin": null,
            "max_height": null,
            "max_width": null,
            "min_height": null,
            "min_width": null,
            "object_fit": null,
            "object_position": null,
            "order": null,
            "overflow": null,
            "overflow_x": null,
            "overflow_y": null,
            "padding": null,
            "right": null,
            "top": null,
            "visibility": null,
            "width": null
          },
          "model_module_version": "1.2.0"
        },
        "88f12e14df244cbd9eb1411f2eebcba6": {
          "model_module": "@jupyter-widgets/base",
          "model_name": "LayoutModel",
          "state": {
            "_model_module": "@jupyter-widgets/base",
            "_model_module_version": "1.2.0",
            "_model_name": "LayoutModel",
            "_view_count": null,
            "_view_module": "@jupyter-widgets/base",
            "_view_module_version": "1.2.0",
            "_view_name": "LayoutView",
            "align_content": null,
            "align_items": null,
            "align_self": null,
            "border": null,
            "bottom": null,
            "display": null,
            "flex": null,
            "flex_flow": null,
            "grid_area": null,
            "grid_auto_columns": null,
            "grid_auto_flow": null,
            "grid_auto_rows": null,
            "grid_column": null,
            "grid_gap": null,
            "grid_row": null,
            "grid_template_areas": null,
            "grid_template_columns": null,
            "grid_template_rows": null,
            "height": null,
            "justify_content": null,
            "justify_items": null,
            "left": null,
            "margin": null,
            "max_height": null,
            "max_width": null,
            "min_height": null,
            "min_width": null,
            "object_fit": null,
            "object_position": null,
            "order": null,
            "overflow": null,
            "overflow_x": null,
            "overflow_y": null,
            "padding": null,
            "right": null,
            "top": null,
            "visibility": null,
            "width": null
          },
          "model_module_version": "1.2.0"
        },
        "9031916d729c478a9b3866f4d91d8fe3": {
          "model_module": "@jupyter-widgets/controls",
          "model_name": "HBoxModel",
          "state": {
            "_dom_classes": [],
            "_model_module": "@jupyter-widgets/controls",
            "_model_module_version": "1.5.0",
            "_model_name": "HBoxModel",
            "_view_count": null,
            "_view_module": "@jupyter-widgets/controls",
            "_view_module_version": "1.5.0",
            "_view_name": "HBoxView",
            "box_style": "",
            "children": [
              "IPY_MODEL_3e1c885192e14e779f404204ea75a2a0",
              "IPY_MODEL_a59798fdf1b841ec8911d74e0df8753d"
            ],
            "layout": "IPY_MODEL_f326611178244edc9ab69d8f7f7c79d9"
          },
          "model_module_version": "1.5.0"
        },
        "a45b06e19d5d4098b8d162d0d9e73d66": {
          "model_module": "@jupyter-widgets/base",
          "model_name": "LayoutModel",
          "state": {
            "_model_module": "@jupyter-widgets/base",
            "_model_module_version": "1.2.0",
            "_model_name": "LayoutModel",
            "_view_count": null,
            "_view_module": "@jupyter-widgets/base",
            "_view_module_version": "1.2.0",
            "_view_name": "LayoutView",
            "align_content": null,
            "align_items": null,
            "align_self": null,
            "border": null,
            "bottom": null,
            "display": null,
            "flex": null,
            "flex_flow": null,
            "grid_area": null,
            "grid_auto_columns": null,
            "grid_auto_flow": null,
            "grid_auto_rows": null,
            "grid_column": null,
            "grid_gap": null,
            "grid_row": null,
            "grid_template_areas": null,
            "grid_template_columns": null,
            "grid_template_rows": null,
            "height": null,
            "justify_content": null,
            "justify_items": null,
            "left": null,
            "margin": null,
            "max_height": null,
            "max_width": null,
            "min_height": null,
            "min_width": null,
            "object_fit": null,
            "object_position": null,
            "order": null,
            "overflow": null,
            "overflow_x": null,
            "overflow_y": null,
            "padding": null,
            "right": null,
            "top": null,
            "visibility": null,
            "width": null
          },
          "model_module_version": "1.2.0"
        },
        "a59798fdf1b841ec8911d74e0df8753d": {
          "model_module": "@jupyter-widgets/controls",
          "model_name": "HTMLModel",
          "state": {
            "_dom_classes": [],
            "_model_module": "@jupyter-widgets/controls",
            "_model_module_version": "1.5.0",
            "_model_name": "HTMLModel",
            "_view_count": null,
            "_view_module": "@jupyter-widgets/controls",
            "_view_module_version": "1.5.0",
            "_view_name": "HTMLView",
            "description": "",
            "description_tooltip": null,
            "layout": "IPY_MODEL_7dc4653f29174908bc749765b7865416",
            "placeholder": "​",
            "style": "IPY_MODEL_7d2b3c3af3e045caae9814cb38080e46",
            "value": " 120/120 [00:35&lt;00:00,  3.42it/s]"
          },
          "model_module_version": "1.5.0"
        },
        "babb6b978ae649a88eaea62c2c295b2f": {
          "model_module": "@jupyter-widgets/base",
          "model_name": "LayoutModel",
          "state": {
            "_model_module": "@jupyter-widgets/base",
            "_model_module_version": "1.2.0",
            "_model_name": "LayoutModel",
            "_view_count": null,
            "_view_module": "@jupyter-widgets/base",
            "_view_module_version": "1.2.0",
            "_view_name": "LayoutView",
            "align_content": null,
            "align_items": null,
            "align_self": null,
            "border": null,
            "bottom": null,
            "display": null,
            "flex": null,
            "flex_flow": null,
            "grid_area": null,
            "grid_auto_columns": null,
            "grid_auto_flow": null,
            "grid_auto_rows": null,
            "grid_column": null,
            "grid_gap": null,
            "grid_row": null,
            "grid_template_areas": null,
            "grid_template_columns": null,
            "grid_template_rows": null,
            "height": null,
            "justify_content": null,
            "justify_items": null,
            "left": null,
            "margin": null,
            "max_height": null,
            "max_width": null,
            "min_height": null,
            "min_width": null,
            "object_fit": null,
            "object_position": null,
            "order": null,
            "overflow": null,
            "overflow_x": null,
            "overflow_y": null,
            "padding": null,
            "right": null,
            "top": null,
            "visibility": null,
            "width": null
          },
          "model_module_version": "1.2.0"
        },
        "c6097730a1244ceeba6cc840ae3f3a12": {
          "model_module": "@jupyter-widgets/output",
          "model_name": "OutputModel",
          "state": {
            "_dom_classes": [],
            "_model_module": "@jupyter-widgets/output",
            "_model_module_version": "1.0.0",
            "_model_name": "OutputModel",
            "_view_count": null,
            "_view_module": "@jupyter-widgets/output",
            "_view_module_version": "1.0.0",
            "_view_name": "OutputView",
            "layout": "IPY_MODEL_1b002a5c05f248e781ee20127dbb43d7",
            "msg_id": "",
            "outputs": [
              {
                "image/png": "iVBORw0KGgoAAAANSUhEUgAAAWgAAAFnCAYAAACLs9MAAAAABHNCSVQICAgIfAhkiAAAAAlwSFlz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\n",
                "metadata": {
                  "tags": []
                },
                "output_type": "display_data",
                "text/plain": "<Figure size 1440x432 with 1 Axes>"
              }
            ]
          },
          "model_module_version": "1.0.0"
        },
        "c9945007a138443d9fbb8bb31af74cc3": {
          "model_module": "@jupyter-widgets/controls",
          "model_name": "FloatSliderModel",
          "state": {
            "_dom_classes": [],
            "_model_module": "@jupyter-widgets/controls",
            "_model_module_version": "1.5.0",
            "_model_name": "FloatSliderModel",
            "_view_count": null,
            "_view_module": "@jupyter-widgets/controls",
            "_view_module_version": "1.5.0",
            "_view_name": "FloatSliderView",
            "continuous_update": true,
            "description": "theta",
            "description_tooltip": null,
            "disabled": false,
            "layout": "IPY_MODEL_babb6b978ae649a88eaea62c2c295b2f",
            "max": 360,
            "min": 0,
            "orientation": "horizontal",
            "readout": true,
            "readout_format": ".2f",
            "step": 0.01,
            "style": "IPY_MODEL_ca487a41d9894ba8a5e28a05fd7ed43e",
            "value": 157.57
          },
          "model_module_version": "1.5.0"
        },
        "ca487a41d9894ba8a5e28a05fd7ed43e": {
          "model_module": "@jupyter-widgets/controls",
          "model_name": "SliderStyleModel",
          "state": {
            "_model_module": "@jupyter-widgets/controls",
            "_model_module_version": "1.5.0",
            "_model_name": "SliderStyleModel",
            "_view_count": null,
            "_view_module": "@jupyter-widgets/base",
            "_view_module_version": "1.2.0",
            "_view_name": "StyleView",
            "description_width": "",
            "handle_color": null
          },
          "model_module_version": "1.5.0"
        },
        "d6695da9ffa041a1b5bd42d829b06f20": {
          "model_module": "@jupyter-widgets/controls",
          "model_name": "SliderStyleModel",
          "state": {
            "_model_module": "@jupyter-widgets/controls",
            "_model_module_version": "1.5.0",
            "_model_name": "SliderStyleModel",
            "_view_count": null,
            "_view_module": "@jupyter-widgets/base",
            "_view_module_version": "1.2.0",
            "_view_name": "StyleView",
            "description_width": "",
            "handle_color": null
          },
          "model_module_version": "1.5.0"
        },
        "eb7f40f7889c4912bedf30d4b310e189": {
          "model_module": "@jupyter-widgets/controls",
          "model_name": "ProgressStyleModel",
          "state": {
            "_model_module": "@jupyter-widgets/controls",
            "_model_module_version": "1.5.0",
            "_model_name": "ProgressStyleModel",
            "_view_count": null,
            "_view_module": "@jupyter-widgets/base",
            "_view_module_version": "1.2.0",
            "_view_name": "StyleView",
            "bar_color": null,
            "description_width": "initial"
          },
          "model_module_version": "1.5.0"
        },
        "f326611178244edc9ab69d8f7f7c79d9": {
          "model_module": "@jupyter-widgets/base",
          "model_name": "LayoutModel",
          "state": {
            "_model_module": "@jupyter-widgets/base",
            "_model_module_version": "1.2.0",
            "_model_name": "LayoutModel",
            "_view_count": null,
            "_view_module": "@jupyter-widgets/base",
            "_view_module_version": "1.2.0",
            "_view_name": "LayoutView",
            "align_content": null,
            "align_items": null,
            "align_self": null,
            "border": null,
            "bottom": null,
            "display": null,
            "flex": null,
            "flex_flow": null,
            "grid_area": null,
            "grid_auto_columns": null,
            "grid_auto_flow": null,
            "grid_auto_rows": null,
            "grid_column": null,
            "grid_gap": null,
            "grid_row": null,
            "grid_template_areas": null,
            "grid_template_columns": null,
            "grid_template_rows": null,
            "height": null,
            "justify_content": null,
            "justify_items": null,
            "left": null,
            "margin": null,
            "max_height": null,
            "max_width": null,
            "min_height": null,
            "min_width": null,
            "object_fit": null,
            "object_position": null,
            "order": null,
            "overflow": null,
            "overflow_x": null,
            "overflow_y": null,
            "padding": null,
            "right": null,
            "top": null,
            "visibility": null,
            "width": null
          },
          "model_module_version": "1.2.0"
        }
      }
    }
  },
  "nbformat": 4,
  "nbformat_minor": 0
}